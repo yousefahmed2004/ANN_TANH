{
  "nbformat": 4,
  "nbformat_minor": 0,
  "metadata": {
    "colab": {
      "provenance": [],
      "authorship_tag": "ABX9TyPDHOBiBq8I6XPdlne9IB3T",
      "include_colab_link": true
    },
    "kernelspec": {
      "name": "python3",
      "display_name": "Python 3"
    },
    "language_info": {
      "name": "python"
    }
  },
  "cells": [
    {
      "cell_type": "markdown",
      "metadata": {
        "id": "view-in-github",
        "colab_type": "text"
      },
      "source": [
        "<a href=\"https://colab.research.google.com/github/yousefahmed2004/ANN_TANH/blob/main/ANN_tanh.ipynb\" target=\"_parent\"><img src=\"https://colab.research.google.com/assets/colab-badge.svg\" alt=\"Open In Colab\"/></a>"
      ]
    },
    {
      "cell_type": "code",
      "source": [
        "import numpy as np\n",
        "\n",
        "def tanhAF(x):\n",
        "    return np.tanh(x)\n",
        "\n",
        "np.random.seed(77)  # علشان أكرر نفس النتايج في كل مره أشغله فيها\n",
        "\n",
        "# هنا بولد ويتس عشوائيه بين النص وسالب نص في مصفوفه حجم 7 صفوف في 3 عواميد // ومصفوفه صف في 7 عواميد\n",
        "# اول واحده عندي بدخلها 3 مدخلات في 7 هيدن لير\n",
        "# والتانيه بيطلع منها مخرج واحد ومربوطه بـ 7 هيدن لير\n",
        "W1 = np.random.uniform(-0.5, 0.5, (7, 3))\n",
        "W2 = np.random.uniform(-0.5, 0.5, (1, 7))\n",
        "\n",
        "bias1 = 0.5\n",
        "bias2 = 0.7\n",
        "\n",
        "X = np.array([12.0, -11.5, -11.7])  # الانبوت\n",
        "\n",
        "# هنا بحسب ناتج الطبقات الهيدن\n",
        "hidden_layer_input = np.dot(W1, X) + bias1\n",
        "hidden_layer_output = tanhAF(hidden_layer_input)\n",
        "\n",
        "# هنا بحسب ناتج الأوتبوت\n",
        "output_layer_input = np.dot(W2, hidden_layer_output) + bias2\n",
        "output = tanhAF(output_layer_input)\n",
        "\n",
        "print(\"Hidden Layer Output:\", hidden_layer_output)\n",
        "print(\"Final Network Output:\", output)\n"
      ],
      "metadata": {
        "colab": {
          "base_uri": "https://localhost:8080/"
        },
        "id": "FiTvZIeophIp",
        "outputId": "5d1542bb-3a11-4883-98a5-b52b8a90adfc"
      },
      "execution_count": 52,
      "outputs": [
        {
          "output_type": "stream",
          "name": "stdout",
          "text": [
            "Hidden Layer Output: [ 0.72854802 -0.9852762   0.75340325 -0.31766399  0.99998522 -0.99846724\n",
            " -0.99999862]\n",
            "Final Network Output: [0.92800764]\n"
          ]
        }
      ]
    },
    {
      "cell_type": "code",
      "source": [],
      "metadata": {
        "id": "reRhDn4Exlru"
      },
      "execution_count": 50,
      "outputs": []
    }
  ]
}