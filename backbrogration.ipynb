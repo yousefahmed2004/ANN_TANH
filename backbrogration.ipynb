{
  "nbformat": 4,
  "nbformat_minor": 0,
  "metadata": {
    "colab": {
      "provenance": [],
      "authorship_tag": "ABX9TyN1n03UH5ScoGlYcvnEIt+Y",
      "include_colab_link": true
    },
    "kernelspec": {
      "name": "python3",
      "display_name": "Python 3"
    },
    "language_info": {
      "name": "python"
    }
  },
  "cells": [
    {
      "cell_type": "markdown",
      "metadata": {
        "id": "view-in-github",
        "colab_type": "text"
      },
      "source": [
        "<a href=\"https://colab.research.google.com/github/yousefahmed2004/ANN_TANH/blob/main/backbrogration.ipynb\" target=\"_parent\"><img src=\"https://colab.research.google.com/assets/colab-badge.svg\" alt=\"Open In Colab\"/></a>"
      ]
    },
    {
      "cell_type": "code",
      "execution_count": 1,
      "metadata": {
        "colab": {
          "base_uri": "https://localhost:8080/"
        },
        "id": "wuUEQNJIVCYj",
        "outputId": "02532388-3b6c-44b6-fa4f-9c1186502720"
      },
      "outputs": [
        {
          "output_type": "stream",
          "name": "stdout",
          "text": [
            "[[0.09  0.082]\n",
            " [0.053 0.041]]\n",
            "[[0.064 0.033]\n",
            " [0.076 0.05 ]]\n",
            "Hidden layer outputs: [-0.45207085 -0.45679211]\n",
            "Output layer outputs: [-0.6315598  -0.63942296]\n",
            "Updated Weight_input_hidden:\n",
            " [[0.0904 0.0828]\n",
            " [0.0532 0.0415]]\n",
            "Updated Weight_hidden_output:\n",
            " [[0.0466 0.0154]\n",
            " [0.0325 0.006 ]]\n"
          ]
        }
      ],
      "source": [
        "import random\n",
        "import numpy as np\n",
        "\n",
        "input_size = 2\n",
        "hidden_size = 2\n",
        "num_classes = 2\n",
        "learning_rate = 0.1\n",
        "\n",
        "Neuron_1 = 0.05\n",
        "Neuron_2 = 0.1\n",
        "\n",
        "Weight_input_hidden = np.random.uniform(0.0, 0.1, (hidden_size, input_size))\n",
        "Weight_input_hidden = np.round(Weight_input_hidden, 3)\n",
        "Weight_hidden_output = np.random.uniform(0.0, 0.1, (num_classes, hidden_size))\n",
        "Weight_hidden_output = np.round(Weight_hidden_output, 3)\n",
        "\n",
        "bias_1 = np.array([0.5, 0.5])\n",
        "bias_2 = np.array([0.7, 0.7])\n",
        "\n",
        "print(Weight_input_hidden)\n",
        "print(Weight_hidden_output)\n",
        "\n",
        "def net(inputs, weights, bias):\n",
        "    net = np.dot(weights, inputs) - bias\n",
        "    return net\n",
        "\n",
        "def activation(net):\n",
        "    return 2 / (1 + np.exp(-2 * net)) - 1\n",
        "\n",
        "inputs = np.array([Neuron_1, Neuron_2])\n",
        "hidden_net = net(inputs, Weight_input_hidden, bias_1)\n",
        "hidden_outputs = activation(hidden_net)\n",
        "print(\"Hidden layer outputs:\", hidden_outputs)\n",
        "\n",
        "output_net = net(hidden_outputs, Weight_hidden_output, bias_2)\n",
        "outputs = activation(output_net)\n",
        "print(\"Output layer outputs:\", outputs)\n",
        "\n",
        "target_output = np.array([0.01, 0.99])\n",
        "error_output = target_output - outputs\n",
        "derivative_output = 1 - outputs**2\n",
        "delta_output = error_output * derivative_output\n",
        "gradient_hidden_output = np.outer(delta_output, hidden_outputs)\n",
        "\n",
        "derivative_hidden = 1 - hidden_outputs**2\n",
        "delta_hidden = np.dot(Weight_hidden_output.T, delta_output) * derivative_hidden\n",
        "gradient_input_hidden = np.outer(delta_hidden, inputs)\n",
        "\n",
        "Weight_hidden_output += learning_rate * gradient_hidden_output\n",
        "Weight_hidden_output = np.round(Weight_hidden_output, 4)\n",
        "Weight_input_hidden += learning_rate * gradient_input_hidden\n",
        "Weight_input_hidden = np.round(Weight_input_hidden, 4)\n",
        "\n",
        "print(\"Updated Weight_input_hidden:\\n\", Weight_input_hidden)\n",
        "print(\"Updated Weight_hidden_output:\\n\", Weight_hidden_output)"
      ]
    },
    {
      "cell_type": "code",
      "source": [],
      "metadata": {
        "id": "yBoIsKqxVFqY"
      },
      "execution_count": null,
      "outputs": []
    }
  ]
}